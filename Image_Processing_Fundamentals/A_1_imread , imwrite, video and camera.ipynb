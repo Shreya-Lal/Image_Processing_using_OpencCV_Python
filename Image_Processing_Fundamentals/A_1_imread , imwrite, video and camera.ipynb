{
 "cells": [
  {
   "cell_type": "markdown",
   "id": "b961cbd2",
   "metadata": {},
   "source": [
    "# Install Opencv using pip"
   ]
  },
  {
   "cell_type": "code",
   "execution_count": 2,
   "id": "9f4a9275",
   "metadata": {},
   "outputs": [
    {
     "name": "stdout",
     "output_type": "stream",
     "text": [
      "Requirement already satisfied: opencv-python in c:\\users\\shrlal\\anaconda3\\lib\\site-packages (4.6.0.66)\n",
      "Requirement already satisfied: numpy>=1.17.3 in c:\\users\\shrlal\\anaconda3\\lib\\site-packages (from opencv-python) (1.21.5)\n",
      "Note: you may need to restart the kernel to use updated packages.\n"
     ]
    }
   ],
   "source": [
    "pip install opencv-python"
   ]
  },
  {
   "cell_type": "code",
   "execution_count": 2,
   "id": "366952ea",
   "metadata": {},
   "outputs": [],
   "source": [
    "import cv2 as cv\n",
    "import sys\n",
    "import os\n",
    "\n",
    "import numpy as np\n",
    "import matplotlib.pyplot as plt\n",
    "%matplotlib inline"
   ]
  },
  {
   "cell_type": "markdown",
   "id": "4ca13c46",
   "metadata": {},
   "source": [
    "# Python program to explain cv.imread() and cv.imshow() method\n"
   ]
  },
  {
   "cell_type": "code",
   "execution_count": 3,
   "id": "acf1a3f8",
   "metadata": {},
   "outputs": [],
   "source": [
    "# image in the folder otherwise specify whole path\n",
    "path=\"porche.jpg\"\n",
    "img = cv.imread(path)\n",
    "\n",
    "cv.imshow(\"Porche_Image\", img)#BGR image\n",
    "k = cv.waitKey(0)"
   ]
  },
  {
   "cell_type": "code",
   "execution_count": 4,
   "id": "aa5161ff",
   "metadata": {},
   "outputs": [
    {
     "data": {
      "text/plain": [
       "(168, 299, 3)"
      ]
     },
     "execution_count": 4,
     "metadata": {},
     "output_type": "execute_result"
    }
   ],
   "source": [
    "img.shape"
   ]
  },
  {
   "cell_type": "code",
   "execution_count": 5,
   "id": "259b8fd5",
   "metadata": {},
   "outputs": [],
   "source": [
    "path=\"porche.jpg\"\n",
    "img = cv.imread(path,-1)\n",
    "\n",
    "cv.imshow(\"Porche_Image\", img)#BGR image\n",
    "k = cv.waitKey(0)\n"
   ]
  },
  {
   "cell_type": "markdown",
   "id": "aa8398ac",
   "metadata": {},
   "source": [
    "# Python program to explain cv.imwrite() method\n"
   ]
  },
  {
   "cell_type": "code",
   "execution_count": 9,
   "id": "b805b01a",
   "metadata": {},
   "outputs": [
    {
     "name": "stdout",
     "output_type": "stream",
     "text": [
      "Before saving image:\n",
      "['A.png', 'B.png', 'bird.jpg', 'butterfly.png', 'cars.gif', 'coke.jpg', 'flower.png', 'grayscale.jpg', 'horse.gif', 'input1.jpg', 'input2.jpg', 'jurP.jpg', 'LinL.jpg', 'meta.jpg', 'porche.jpg', 'red.jpg', 'rgb.png', 'rotated_image.png', 'Tem.jpg', 'tempC.jpg', 'Tlight.mp4', 'WinL.jpg']\n",
      "After saving image:\n",
      "['A.png', 'B.png', 'bird.jpg', 'butterfly.png', 'cars.gif', 'coke.jpg', 'flower.png', 'grayscale.jpg', 'horse.gif', 'input1.jpg', 'input2.jpg', 'jurP.jpg', 'LinL.jpg', 'meta.jpg', 'porche.jpg', 'red.jpg', 'rgb.png', 'rotated_image.png', 'savedImage.png', 'Tem.jpg', 'tempC.jpg', 'Tlight.mp4', 'WinL.jpg']\n",
      "Successfully saved\n"
     ]
    }
   ],
   "source": [
    "# Image path\n",
    "image_path = \"red.jpg\"\n",
    "\n",
    "# Image directory\n",
    "directory = \"C:/Users/SHRLAL/assign/images\"\n",
    "\n",
    "# Using cv.imread() method to read the image\n",
    "img = cv.imread(image_path)  # by default it is IMREAD_COLOR or 1 which  loads the image in the BGR 8-bit format.\n",
    "\n",
    "# Change the current directory to specified directory\n",
    "os.chdir(directory)\n",
    "\n",
    "# List files and directories in 'C:/Users/SHRLAL/assign/images'\n",
    "print(\"Before saving image:\")\n",
    "print(os.listdir(directory))\n",
    "\n",
    "# Filename\n",
    "filename = 'savedImage.png'\n",
    "\n",
    "# Using cv.imwrite() method Saving the image\n",
    "cv.imwrite(filename, img)\n",
    "\n",
    "# List files and directories in 'C:/Users/SHRLAL/assign/images'\n",
    "print(\"After saving image:\")\n",
    "print(os.listdir(directory))\n",
    "\n",
    "print('Successfully saved')\n"
   ]
  },
  {
   "cell_type": "code",
   "execution_count": 7,
   "id": "d3d058ea",
   "metadata": {},
   "outputs": [],
   "source": [
    "path=\"porche.jpg\"\n",
    "img = cv.imread(path,0)  # 0 for gray image- IMREAD_GRAYSCALE loads the image as an intensity one\n",
    "\n",
    "if img is None:\n",
    "    sys.exit(\"Could not read the image.\")\n",
    "\n",
    "cv.imshow(\"Porche_Image\", img)\n",
    "k = cv.waitKey(0)\n",
    "\n",
    "if k == ord(\"s\"):\n",
    "    cv.imwrite(\"starry_night.png\", img)"
   ]
  },
  {
   "cell_type": "code",
   "execution_count": 8,
   "id": "5a0e0e19",
   "metadata": {},
   "outputs": [],
   "source": [
    "path=\"porche.jpg\"\n",
    "img = cv.imread(path,-1) #-1 for IMREAD_UNCHANGED loads the image as is (including the alpha channel if present)\n",
    "\n",
    "if img is None:\n",
    "    sys.exit(\"Could not read the image.\")\n",
    "\n",
    "cv.imshow(\"Porche_Image\", img)\n",
    "k = cv.waitKey(0)\n",
    "\n",
    "cv.destroyAllWindows()\n",
    "\n",
    "if k == ord(\"s\"):\n",
    "    cv.imwrite(\"starry_night.png\", img)"
   ]
  },
  {
   "cell_type": "code",
   "execution_count": 9,
   "id": "1ca8952e",
   "metadata": {},
   "outputs": [
    {
     "ename": "SystemExit",
     "evalue": "Could not read the image.",
     "output_type": "error",
     "traceback": [
      "An exception has occurred, use %tb to see the full traceback.\n",
      "\u001b[1;31mSystemExit\u001b[0m\u001b[1;31m:\u001b[0m Could not read the image.\n"
     ]
    },
    {
     "name": "stderr",
     "output_type": "stream",
     "text": [
      "C:\\Users\\SHRLAL\\Anaconda3\\lib\\site-packages\\IPython\\core\\interactiveshell.py:3377: UserWarning: To exit: use 'exit', 'quit', or Ctrl-D.\n",
      "  warn(\"To exit: use 'exit', 'quit', or Ctrl-D.\", stacklevel=1)\n"
     ]
    }
   ],
   "source": [
    "path=\"blue.jpg\"\n",
    "img = cv.imread(path,-1) #-1 for IMREAD_UNCHANGED loads the image as is (including the alpha channel if present)\n",
    "\n",
    "if img is None:\n",
    "    sys.exit(\"Could not read the image.\")\n",
    "\n",
    "cv.imshow(\"Porche_Image\", img)\n",
    "k = cv.waitKey(0)\n",
    "\n",
    "cv.destroyAllWindows()\n",
    "\n",
    "if k == ord(\"s\"):\n",
    "    cv.imwrite(\"starry_night.png\", img)"
   ]
  },
  {
   "cell_type": "code",
   "execution_count": 6,
   "id": "25ec1e11",
   "metadata": {},
   "outputs": [
    {
     "name": "stdout",
     "output_type": "stream",
     "text": [
      "Frames per second :  10.0 FPS\n",
      "Frame count :  11.0\n",
      "Frame Width :  340.0\n",
      "Frame Height :  230.0\n"
     ]
    }
   ],
   "source": [
    "# Create a video capture object, in this case we are reading the video from a file\n",
    "vid_capture = cv.VideoCapture(\"horse.gif\")\n",
    " \n",
    "if (vid_capture.isOpened() == False):\n",
    "    print(\"Error opening the video file\")\n",
    "\n",
    "# Read fps and frame count\n",
    "else:\n",
    "    # Get frame rate information\n",
    "    # You can replace 5 with CAP_PROP_FPS as well, they are enumerations\n",
    "    fps = vid_capture.get(5)\n",
    "    print('Frames per second : ', fps,'FPS')\n",
    " \n",
    "  # Get frame count\n",
    "  # You can replace 7 with CAP_PROP_FRAME_COUNT as well, they are enumerations\n",
    "    frame_count = vid_capture.get(7)\n",
    "    print('Frame count : ', frame_count)\n",
    "    \n",
    "  # Get frame width\n",
    "  # You can replace 3 with CAP_PROP_FRAME_WIDTH as well, they are enumerations\n",
    "    frame_width = vid_capture.get(3)\n",
    "    print('Frame Width : ', frame_width)\n",
    "      \n",
    "  # Get frame height\n",
    "  # You can replace 3 with CAP_PROP_FRAME_HEIGHT as well, they are enumerations\n",
    "    frame_height = vid_capture.get(4)\n",
    "    print('Frame Height : ', frame_height)\n",
    "    \n",
    "\n",
    "while(vid_capture.isOpened()):\n",
    "\n",
    "  # vid_capture.read() methods returns a tuple, first element is a bool and the second is frame\n",
    "    ret, frame = vid_capture.read()\n",
    "    if ret == True:\n",
    "        cv.imshow('Video Frame',frame)\n",
    "         # 20 is in milliseconds, try to increase the value, say 50 and observe\n",
    "        key = cv.waitKey(1500)\n",
    " \n",
    "    if key == ord('q'):\n",
    "        break\n",
    "    else:\n",
    "        break\n",
    "\n",
    "# Release the video capture object\n",
    "vid_capture.release()\n",
    "cv.destroyAllWindows()\n"
   ]
  },
  {
   "cell_type": "markdown",
   "id": "e25f14e6",
   "metadata": {},
   "source": [
    "# Video File or Camera Feed"
   ]
  },
  {
   "cell_type": "code",
   "execution_count": 7,
   "id": "d0de2da8",
   "metadata": {},
   "outputs": [
    {
     "name": "stdout",
     "output_type": "stream",
     "text": [
      "Frames per second :  25.0 FPS\n",
      "Frame count :  325.0\n",
      "Frame Width :  1920.0\n",
      "Frame Height :  1080.0\n"
     ]
    }
   ],
   "source": [
    "# Create a video capture object, in this case we are reading the video from a file\n",
    "vid_capture = cv.VideoCapture(\"Tlight.mp4\")\n",
    " \n",
    "if (vid_capture.isOpened() == False):\n",
    "    print(\"Error opening the video file\")\n",
    "\n",
    "# Read fps and frame count\n",
    "else:\n",
    "    # Get frame rate information\n",
    "    # You can replace 5 with CAP_PROP_FPS as well, they are enumerations\n",
    "    fps = vid_capture.get(5)\n",
    "    print('Frames per second : ', fps,'FPS')\n",
    " \n",
    "  # Get frame count\n",
    "  # You can replace 7 with CAP_PROP_FRAME_COUNT as well, they are enumerations\n",
    "    frame_count = vid_capture.get(7)\n",
    "    print('Frame count : ', frame_count)\n",
    "    \n",
    "  # Get frame width\n",
    "  # You can replace 3 with CAP_PROP_FRAME_WIDTH as well, they are enumerations\n",
    "    frame_width = vid_capture.get(3)\n",
    "    print('Frame Width : ', frame_width)\n",
    "      \n",
    "  # Get frame height\n",
    "  # You can replace 3 with CAP_PROP_FRAME_HEIGHT as well, they are enumerations\n",
    "    frame_height = vid_capture.get(4)\n",
    "    print('Frame Height : ', frame_height)\n",
    "    \n",
    "\n",
    "while(vid_capture.isOpened()):\n",
    "\n",
    "  # vid_capture.read() methods returns a tuple, first element is a bool and the second is frame\n",
    "    ret, frame = vid_capture.read()\n",
    "    if ret == True:\n",
    "        cv.imshow('Video Frame',frame)\n",
    "         # 20 is in milliseconds, try to increase the value, say 50 and observe\n",
    "        key = cv.waitKey(1500)\n",
    " \n",
    "    if key == ord('q'):\n",
    "        break\n",
    "    else:\n",
    "        break\n",
    "\n",
    "# Release the video capture object\n",
    "vid_capture.release()\n",
    "cv.destroyAllWindows()\n"
   ]
  },
  {
   "cell_type": "code",
   "execution_count": 12,
   "id": "a936286a",
   "metadata": {},
   "outputs": [
    {
     "name": "stdout",
     "output_type": "stream",
     "text": [
      "Frames per second :  30.0 FPS\n",
      "Frame count :  -1.0\n",
      "Frame Width :  640.0\n",
      "Frame Height :  480.0\n"
     ]
    }
   ],
   "source": [
    "# Create a video capture object, in this case we are reading the video from a camera\n",
    "vid_capture = cv.VideoCapture(0)\n",
    " \n",
    "if (vid_capture.isOpened() == False):\n",
    "    print(\"Error opening the video file\")\n",
    "\n",
    "# Read fps and frame count\n",
    "else:\n",
    "    # Get frame rate information\n",
    "    # You can replace 5 with CAP_PROP_FPS as well, they are enumerations\n",
    "    fps = vid_capture.get(5)\n",
    "    print('Frames per second : ', fps,'FPS')\n",
    " \n",
    "  # Get frame count\n",
    "  # You can replace 7 with CAP_PROP_FRAME_COUNT as well, they are enumerations\n",
    "    frame_count = vid_capture.get(7)\n",
    "    print('Frame count : ', frame_count)\n",
    "    \n",
    "  # Get frame width\n",
    "  # You can replace 3 with CAP_PROP_FRAME_WIDTH as well, they are enumerations\n",
    "    frame_width = vid_capture.get(3)\n",
    "    print('Frame Width : ', frame_width)\n",
    "      \n",
    "  # Get frame height\n",
    "  # You can replace 3 with CAP_PROP_FRAME_HEIGHT as well, they are enumerations\n",
    "    frame_height = vid_capture.get(4)\n",
    "    print('Frame Height : ', frame_height)\n",
    "  \n",
    "        \n",
    "while(vid_capture.isOpened()):\n",
    "\n",
    "  # vid_capture.read() methods returns a tuple, first element is a bool and the second is frame\n",
    "    ret, frame = vid_capture.read()\n",
    "    if ret == True:\n",
    "        cv.imshow('Video Frame',frame)\n",
    "         # 20 is in milliseconds, try to increase the value, say 50 and observe\n",
    "        key = cv.waitKey(500)\n",
    " \n",
    "    if key == ord('q'):\n",
    "        break\n",
    "    else:\n",
    "        break\n",
    "\n",
    "# Release the video capture object\n",
    "vid_capture.release()\n",
    "cv.destroyAllWindows()  "
   ]
  }
 ],
 "metadata": {
  "kernelspec": {
   "display_name": "Python 3 (ipykernel)",
   "language": "python",
   "name": "python3"
  },
  "language_info": {
   "codemirror_mode": {
    "name": "ipython",
    "version": 3
   },
   "file_extension": ".py",
   "mimetype": "text/x-python",
   "name": "python",
   "nbconvert_exporter": "python",
   "pygments_lexer": "ipython3",
   "version": "3.9.12"
  }
 },
 "nbformat": 4,
 "nbformat_minor": 5
}
