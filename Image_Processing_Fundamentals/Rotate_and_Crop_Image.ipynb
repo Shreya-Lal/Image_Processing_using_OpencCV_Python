{
 "cells": [
  {
   "cell_type": "code",
   "execution_count": 1,
   "id": "fa317b02",
   "metadata": {},
   "outputs": [],
   "source": [
    "import cv2 \n",
    "import matplotlib.pyplot as plt\n",
    "import numpy as np\n",
    "from math import sqrt, floor, ceil\n",
    "import math\n",
    "from PIL import Image\n",
    "import imutils"
   ]
  },
  {
   "cell_type": "code",
   "execution_count": 17,
   "id": "32fe5195",
   "metadata": {},
   "outputs": [],
   "source": [
    "# load the image and show it\n",
    "image = cv2.imread(\"jurP.jpg\")\n",
    "cv2.imshow(\"original\", image)\n",
    "k=cv2.waitKey(0)"
   ]
  },
  {
   "cell_type": "markdown",
   "id": "0e8938b0",
   "metadata": {},
   "source": [
    "# Resizing Image using opencv"
   ]
  },
  {
   "cell_type": "code",
   "execution_count": 3,
   "id": "54b5ede7",
   "metadata": {},
   "outputs": [
    {
     "name": "stdout",
     "output_type": "stream",
     "text": [
      "(388, 647, 3)\n",
      "388 647\n",
      "(100, 59)\n"
     ]
    }
   ],
   "source": [
    "# print the dimensions of the image\n",
    "print(image.shape)  # height*width*channel\n",
    "print(image.shape[0],image.shape[1])\n",
    "# we need to keep in mind aspect ratio so the image does\n",
    "# not look skewed or distorted -- therefore, we calculate\n",
    "# the ratio of the new image to the old image\n",
    "r = 100.0 / image.shape[1] #647 === .154....\n",
    "dim = (100, int(image.shape[0] * r)) #388*.154... take floor value\n",
    "print(dim)\n",
    "# perform the actual resizing of the image and show it\n",
    "resized = cv2.resize(image, dim, interpolation = cv2.INTER_AREA)\n",
    "cv2.imshow(\"resized\", resized)\n",
    "k= cv2.waitKey(0)"
   ]
  },
  {
   "cell_type": "markdown",
   "id": "88888069",
   "metadata": {},
   "source": [
    "# Rotate using opencv"
   ]
  },
  {
   "cell_type": "code",
   "execution_count": 4,
   "id": "2d3d86ed",
   "metadata": {},
   "outputs": [
    {
     "name": "stdout",
     "output_type": "stream",
     "text": [
      "388 647\n"
     ]
    }
   ],
   "source": [
    "# grab the dimensions of the image and calculate the center\n",
    "# of the image\n",
    "(h, w) = image.shape[:2]\n",
    "print(h,w)\n",
    "center = (w / 2, h / 2)\n",
    "# rotate the image by 180 degrees\n",
    "M = cv2.getRotationMatrix2D(center, 180, 1.0)\n",
    "rotated = cv2.warpAffine(image, M, (w, h))\n",
    "cv2.imshow(\"rotated\", rotated)\n",
    "k= cv2.waitKey(0)"
   ]
  },
  {
   "cell_type": "code",
   "execution_count": 5,
   "id": "328ddda1",
   "metadata": {},
   "outputs": [],
   "source": [
    "img = cv2.imread(\"bird.jpg\")\n",
    "rows,cols = img.shape[:2]\n",
    "# cols-1 and rows-1 are the coordinate limits.\n",
    "M = cv2.getRotationMatrix2D(((cols-1)/2.0,(rows-1)/2.0),45,1)\n",
    "dst = cv2.warpAffine(img,M,(cols,rows))\n",
    "cv2.imshow(\"Rotated\", dst)\n",
    "\n",
    "# This is used for To Keep On Displaying\n",
    "# The Image Until Any Key is Pressed\n",
    "k=cv2.waitKey(0)"
   ]
  },
  {
   "cell_type": "code",
   "execution_count": 6,
   "id": "58fef23a",
   "metadata": {},
   "outputs": [
    {
     "ename": "AttributeError",
     "evalue": "module 'cv2' has no attribute 'cv2'",
     "output_type": "error",
     "traceback": [
      "\u001b[1;31m---------------------------------------------------------------------------\u001b[0m",
      "\u001b[1;31mAttributeError\u001b[0m                            Traceback (most recent call last)",
      "Input \u001b[1;32mIn [6]\u001b[0m, in \u001b[0;36m<cell line: 13>\u001b[1;34m()\u001b[0m\n\u001b[0;32m      8\u001b[0m window_name \u001b[38;5;241m=\u001b[39m \u001b[38;5;124m'\u001b[39m\u001b[38;5;124mImage\u001b[39m\u001b[38;5;124m'\u001b[39m\n\u001b[0;32m     10\u001b[0m \u001b[38;5;66;03m# Using cv2.rotate() method\u001b[39;00m\n\u001b[0;32m     11\u001b[0m \u001b[38;5;66;03m# Using cv2.ROTATE_90_CLOCKWISE rotate\u001b[39;00m\n\u001b[0;32m     12\u001b[0m \u001b[38;5;66;03m# by 90 degrees clockwise\u001b[39;00m\n\u001b[1;32m---> 13\u001b[0m image \u001b[38;5;241m=\u001b[39m cv2\u001b[38;5;241m.\u001b[39mrotate(src, \u001b[43mcv2\u001b[49m\u001b[38;5;241;43m.\u001b[39;49m\u001b[43mcv2\u001b[49m\u001b[38;5;241m.\u001b[39mROTATE_90_CLOCKWISE)\n\u001b[0;32m     15\u001b[0m \u001b[38;5;66;03m# Displaying the image\u001b[39;00m\n\u001b[0;32m     16\u001b[0m cv2\u001b[38;5;241m.\u001b[39mimshow(window_name, image)\n",
      "\u001b[1;31mAttributeError\u001b[0m: module 'cv2' has no attribute 'cv2'"
     ]
    }
   ],
   "source": [
    "# path\n",
    "path = r\"bird.jpg\"\n",
    "\n",
    "# Reading an image in default mode\n",
    "src = cv2.imread(path)\n",
    "\n",
    "# Window name in which image is displayed\n",
    "window_name = 'Image'\n",
    "\n",
    "# Using cv2.rotate() method\n",
    "# Using cv2.ROTATE_90_CLOCKWISE rotate\n",
    "# by 90 degrees clockwise\n",
    "image = cv2.rotate(src, cv2.cv2.ROTATE_90_CLOCKWISE)\n",
    "\n",
    "# Displaying the image\n",
    "cv2.imshow(window_name, image)\n",
    "cv2.waitKey(0)\n"
   ]
  },
  {
   "cell_type": "code",
   "execution_count": null,
   "id": "78f5e186",
   "metadata": {},
   "outputs": [],
   "source": [
    "# path\n",
    "path = r\"bird.jpg\"\n",
    "\n",
    "# Reading an image in default mode\n",
    "src = cv2.imread(path)\n",
    "\n",
    "# Window name in which image is displayed\n",
    "window_name = 'Image'\n",
    "\n",
    "# Using cv2.rotate() method\n",
    "# Using cv2.ROTATE_180 rotate by\n",
    "# 180 degrees clockwise\n",
    "image = cv2.rotate(src, cv2.ROTATE_180)\n",
    "\n",
    "# Displaying the image\n",
    "cv2.imshow(window_name, image)\n",
    "cv2.waitKey(0)\n"
   ]
  },
  {
   "cell_type": "code",
   "execution_count": 13,
   "id": "4caf35ef",
   "metadata": {},
   "outputs": [
    {
     "data": {
      "text/plain": [
       "-1"
      ]
     },
     "execution_count": 13,
     "metadata": {},
     "output_type": "execute_result"
    }
   ],
   "source": [
    "# path\n",
    "path = r\"bird.jpg\"\n",
    "\n",
    "# Reading an image in default mode\n",
    "src = cv2.imread(path)\n",
    "\n",
    "# Window name in which image is displayed\n",
    "window_name = 'Image'\n",
    "\n",
    "# Using cv2.rotate() method\n",
    "# Using cv2.ROTATE_90_COUNTERCLOCKWISE\n",
    "# rotate by 270 degrees clockwise\n",
    "image = cv2.rotate(src, cv2.ROTATE_90_COUNTERCLOCKWISE)\n",
    "\n",
    "# Displaying the image\n",
    "cv2.imshow(window_name, image)\n",
    "cv2.waitKey(0)\n"
   ]
  },
  {
   "cell_type": "markdown",
   "id": "f52aa355",
   "metadata": {},
   "source": [
    "# Crop using slicing"
   ]
  },
  {
   "cell_type": "code",
   "execution_count": 16,
   "id": "e2166df3",
   "metadata": {},
   "outputs": [],
   "source": [
    "crop=image[70:170, 440:540]\n",
    "cv2.imshow(\"Cropped\", crop)\n",
    "k= cv2.waitKey(0)"
   ]
  },
  {
   "cell_type": "markdown",
   "id": "200cb40a",
   "metadata": {},
   "source": [
    "# Rotate using imutils"
   ]
  },
  {
   "cell_type": "code",
   "execution_count": null,
   "id": "cbd12731",
   "metadata": {},
   "outputs": [],
   "source": [
    "# read an image as input using OpenCV\n",
    "image = cv2.imread(\"jurP.jpg\")\n",
    "\n",
    "Rotated_image = imutils.rotate(image, angle=45)\n",
    "#Rotated1_image = imutils.rotate(image, angle=90)\n",
    "\n",
    "# display the image using OpenCV of\n",
    "# angle 45\n",
    "cv2.imshow(\"Rotated\", Rotated_image)\n",
    "\n",
    "# display the image using OpenCV of\n",
    "# angle 90\n",
    "#cv2.imshow(\"Rotated\", Rotated1_image)\n",
    "\n",
    "# This is used for To Keep On Displaying\n",
    "# The Image Until Any Key is Pressed\n",
    "k=cv2.waitKey(0)"
   ]
  },
  {
   "cell_type": "markdown",
   "id": "763f01b1",
   "metadata": {},
   "source": [
    "# Rotate image by any angle inputted by the user (scratch implementation)"
   ]
  },
  {
   "cell_type": "code",
   "execution_count": 11,
   "id": "fca64738",
   "metadata": {},
   "outputs": [
    {
     "name": "stdout",
     "output_type": "stream",
     "text": [
      "Enter the angle :- 15\n"
     ]
    }
   ],
   "source": [
    "img=cv2.imread(\"bird.jpg\")\n",
    "\n",
    "image = np.array(img)             # Load the image\n",
    "angle=int(input(\"Enter the angle :- \"))                # Ask the user to enter the angle of rotation\n",
    "\n",
    "# Define the most occuring variables\n",
    "angle=math.radians(angle)                               #converting degrees to radians\n",
    "cosine=math.cos(angle)\n",
    "sine=math.sin(angle)\n",
    "height=image.shape[0]                                   #define the height of the image\n",
    "width=image.shape[1]                                    #define the width of the image\n",
    "\n",
    "# Define the height and width of the new image that is to be formed\n",
    "new_height  = round(abs(image.shape[0]*cosine)+abs(image.shape[1]*sine))+1\n",
    "new_width  = round(abs(image.shape[1]*cosine)+abs(image.shape[0]*sine))+1\n",
    "\n",
    "# define another image variable of dimensions of new_height and new _column filled with zeros\n",
    "output=np.zeros((new_height,new_width,image.shape[2]))\n",
    "\n",
    "# Find the centre of the image about which we have to rotate the image\n",
    "original_centre_height   = round(((image.shape[0]+1)/2)-1)    #with respect to the original image\n",
    "original_centre_width    = round(((image.shape[1]+1)/2)-1)    #with respect to the original image\n",
    "\n",
    "# Find the centre of the new image that will be obtained\n",
    "new_centre_height= round(((new_height+1)/2)-1)        #with respect to the new image\n",
    "new_centre_width= round(((new_width+1)/2)-1)          #with respect to the new image\n",
    "\n",
    "for i in range(height):\n",
    "    for j in range(width):\n",
    "        #co-ordinates of pixel with respect to the centre of original image\n",
    "        y=image.shape[0]-1-i-original_centre_height                   \n",
    "        x=image.shape[1]-1-j-original_centre_width                      \n",
    "\n",
    "        #co-ordinate of pixel with respect to the rotated image\n",
    "        new_y=round(-x*sine+y*cosine)\n",
    "        new_x=round(x*cosine+y*sine)\n",
    "\n",
    "        '''since image will be rotated the centre will change too, \n",
    "           so to adust to that we will need to change new_x and new_y with respect to the new centre'''\n",
    "        new_y=new_centre_height-new_y\n",
    "        new_x=new_centre_width-new_x\n",
    "\n",
    "        # adding if check to prevent any errors in the processing\n",
    "        if 0 <= new_x < new_width and 0 <= new_y < new_height and new_x>=0 and new_y>=0:\n",
    "            output[new_y,new_x,:]=image[i,j,:]                          #writing the pixels to the new destination in the output image\n",
    "\n",
    "pil_img=Image.fromarray((output).astype(np.uint8))                       # converting array to image\n",
    "# pil_img.save(\"C:/Users/SHRLAL/assign/images/rotated_image.png\")          # saving the image\n",
    "pil_img.show()\n",
    "\n",
    "# pil_img = (np.dstack((output).astype(np.uint8)))\n",
    "# cv2.imshow(\"rotated image\",output)\n",
    "# k=cv2.waitKey(0)\n",
    "# cv2.destroyAllWindows()\n"
   ]
  },
  {
   "cell_type": "markdown",
   "id": "d4bb2fef",
   "metadata": {},
   "source": [
    "# As the image result is having hole or dots to resolve see below code"
   ]
  },
  {
   "cell_type": "code",
   "execution_count": 19,
   "id": "8e864a92",
   "metadata": {},
   "outputs": [],
   "source": [
    "# \"\"\"A problem called aliasing. Multiplying by sines and cosines on the integer \n",
    "# coordinates of the source image gives real number results, and these have to be \n",
    "# rounded back to integers again to be plotted. Sometimes this number rounding means \n",
    "# the same destination location is addressed more than once, and sometimes certain pixels \n",
    "# are missed completely. When the pixels are missed, the background shows through. \n",
    "# This is why there are holes.The aliasing problem gets worse when angles are closesr to the diagonals.\"\"\""
   ]
  },
  {
   "cell_type": "markdown",
   "id": "4cbcd5e7",
   "metadata": {},
   "source": [
    "# Refined above code using shear transformation"
   ]
  },
  {
   "cell_type": "code",
   "execution_count": 12,
   "id": "654ebe8d",
   "metadata": {},
   "outputs": [
    {
     "name": "stdout",
     "output_type": "stream",
     "text": [
      "Enter the angle :- 15\n"
     ]
    }
   ],
   "source": [
    "def shear(angle,x,y):\n",
    "    '''\n",
    "    |1  -tan(𝜃/2) |  |1        0|  |1  -tan(𝜃/2) | \n",
    "    |0      1     |  |sin(𝜃)   1|  |0      1     |\n",
    "\n",
    "    '''\n",
    "    # shear 1\n",
    "    tangent=math.tan(angle/2)\n",
    "    new_x=round(x-y*tangent)\n",
    "    new_y=y\n",
    "    \n",
    "    #shear 2\n",
    "    new_y=round(new_x*math.sin(angle)+new_y)      #since there is no change in new_x according to the shear matrix\n",
    "\n",
    "    #shear 3\n",
    "    new_x=round(new_x-new_y*tangent)              #since there is no change in new_y according to the shear matrix\n",
    "    \n",
    "    return new_y,new_x\n",
    "\n",
    "\n",
    "\n",
    "img=cv2.imread(\"bird.jpg\")\n",
    "\n",
    "image = np.array(img)             # Load the image\n",
    "angle=-int(input(\"Enter the angle :- \"))                # Ask the user to enter the angle of rotation\n",
    "\n",
    "# Define the most occuring variables\n",
    "angle=math.radians(angle)                               #converting degrees to radians\n",
    "cosine=math.cos(angle)\n",
    "sine=math.sin(angle)\n",
    "\n",
    "height=image.shape[0]                                   #define the height of the image\n",
    "width=image.shape[1]                                    #define the width of the image\n",
    "\n",
    "# Define the height and width of the new image that is to be formed\n",
    "new_height  = round(abs(image.shape[0]*cosine)+abs(image.shape[1]*sine))+1\n",
    "new_width  = round(abs(image.shape[1]*cosine)+abs(image.shape[0]*sine))+1\n",
    "\n",
    "# define another image variable of dimensions of new_height and new _column filled with zeros\n",
    "output=np.zeros((new_height,new_width,image.shape[2]))\n",
    "image_copy=output.copy()\n",
    "\n",
    "\n",
    "# Find the centre of the image about which we have to rotate the image\n",
    "original_centre_height   = round(((image.shape[0]+1)/2)-1)    #with respect to the original image\n",
    "original_centre_width    = round(((image.shape[1]+1)/2)-1)    #with respect to the original image\n",
    "\n",
    "# Find the centre of the new image that will be obtained\n",
    "new_centre_height= round(((new_height+1)/2)-1)        #with respect to the new image\n",
    "new_centre_width= round(((new_width+1)/2)-1)          #with respect to the new image\n",
    "\n",
    "\n",
    "for i in range(height):\n",
    "    for j in range(width):\n",
    "        #co-ordinates of pixel with respect to the centre of original image\n",
    "        y=image.shape[0]-1-i-original_centre_height                   \n",
    "        x=image.shape[1]-1-j-original_centre_width \n",
    "\n",
    "        #Applying shear Transformation                     \n",
    "        new_y,new_x=shear(angle,x,y)   #function call\n",
    "\n",
    "        '''since image will be rotated the centre will change too, \n",
    "            so to adust to that we will need to change new_x and new_y with respect to the new centre'''\n",
    "        new_y=new_centre_height-new_y\n",
    "        new_x=new_centre_width-new_x\n",
    "        \n",
    "        output[new_y,new_x,:]=image[i,j,:]                          #writing the pixels to the new destination in the output image\n",
    "\n",
    "\n",
    "pil_img=Image.fromarray((output).astype(np.uint8))                       # converting array to image\n",
    "# pil_img.save(\"C:/Users/SHRLAL/assign/images/rotated_image.png\")          # saving the image\n",
    "pil_img.show()\n"
   ]
  }
 ],
 "metadata": {
  "kernelspec": {
   "display_name": "Python 3 (ipykernel)",
   "language": "python",
   "name": "python3"
  },
  "language_info": {
   "codemirror_mode": {
    "name": "ipython",
    "version": 3
   },
   "file_extension": ".py",
   "mimetype": "text/x-python",
   "name": "python",
   "nbconvert_exporter": "python",
   "pygments_lexer": "ipython3",
   "version": "3.9.12"
  }
 },
 "nbformat": 4,
 "nbformat_minor": 5
}
