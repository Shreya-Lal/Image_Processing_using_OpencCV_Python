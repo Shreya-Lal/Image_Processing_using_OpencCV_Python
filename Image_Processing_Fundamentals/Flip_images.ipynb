{
 "cells": [
  {
   "cell_type": "code",
   "execution_count": 1,
   "id": "7c1a6d32",
   "metadata": {},
   "outputs": [],
   "source": [
    "import cv2 \n",
    "import matplotlib.pyplot as plt\n",
    "import numpy as np\n",
    "from math import sqrt, floor, ceil\n",
    "import math"
   ]
  },
  {
   "cell_type": "code",
   "execution_count": 2,
   "id": "c03e56e4",
   "metadata": {},
   "outputs": [],
   "source": [
    "# Python program to explain cv2.flip() method\n",
    "\n",
    "# importing cv2\n",
    "import cv2\n",
    "\n",
    "# path\n",
    "path = r\"LinL.jpg\"\n",
    "\n",
    "# Reading an image in default mode\n",
    "src = cv2.imread(path)\n",
    "\n",
    "# Window name in which image is displayed\n",
    "window_name = 'Image'\n",
    "\n",
    "# Using cv2.flip() method\n",
    "# Use Flip code 0 to flip vertically and 1 to flip horizontally\n",
    "image = cv2.flip(src, 0)\n",
    "\n",
    "# Displaying the image\n",
    "cv2.imshow(window_name, image)\n",
    "k= cv2.waitKey(0)\n"
   ]
  },
  {
   "cell_type": "code",
   "execution_count": 3,
   "id": "dca895f9",
   "metadata": {},
   "outputs": [],
   "source": [
    "# Python program to explain cv2.flip() method\n",
    "\n",
    "# importing cv2\n",
    "import cv2\n",
    "\n",
    "# path\n",
    "path = r\"LinL.jpg\"\n",
    "\n",
    "# Reading an image in default mode\n",
    "src = cv2.imread(path)\n",
    "\n",
    "# Window name in which image is displayed\n",
    "window_name = 'Image'\n",
    "\n",
    "# Using cv2.flip() method\n",
    "# Use Flip code 0 to flip vertically and 1 to flip horizontally and -1 diagonal flip\n",
    "image = cv2.flip(src, 1)\n",
    "\n",
    "# Displaying the image\n",
    "cv2.imshow(window_name, image)\n",
    "k= cv2.waitKey(0)\n"
   ]
  },
  {
   "cell_type": "markdown",
   "id": "6a14ee21",
   "metadata": {},
   "source": [
    "# Flip images by reversing rows and col in vertical and horizontal flip respectively"
   ]
  },
  {
   "cell_type": "code",
   "execution_count": 4,
   "id": "12bd4cb3",
   "metadata": {},
   "outputs": [],
   "source": [
    "path = (\"LinL.jpg\")\n",
    "img = cv2.imread(path)\n",
    "#img = cv2.cvtColor(img, cv2.COLOR_BGR2RGB)\n",
    "\n",
    "hor_flip =img[:, ::-1,:]\n",
    "ver_flip =img[::-1, :,:]\n",
    "\n",
    "cv2.imshow(\"Horizontal Flip\", hor_flip)\n",
    "k= cv2.waitKey(0)\n",
    "\n",
    "cv2.imshow(\"Vertical Flip\", ver_flip)\n",
    "k= cv2.waitKey(0)"
   ]
  },
  {
   "cell_type": "code",
   "execution_count": 22,
   "id": "74797b9e",
   "metadata": {},
   "outputs": [
    {
     "name": "stdout",
     "output_type": "stream",
     "text": [
      "320 240\n"
     ]
    }
   ],
   "source": [
    "x,y = image.shape[1::-1]  # col * rows i.e width *height\n",
    "print(x,y)"
   ]
  },
  {
   "cell_type": "code",
   "execution_count": 23,
   "id": "ce68d5db",
   "metadata": {},
   "outputs": [
    {
     "name": "stdout",
     "output_type": "stream",
     "text": [
      "240 320\n"
     ]
    }
   ],
   "source": [
    "x, y = image.shape[:2]  #  rows * cols i.e height*width\n",
    "print(x, y)"
   ]
  },
  {
   "cell_type": "code",
   "execution_count": null,
   "id": "44daa5a7",
   "metadata": {},
   "outputs": [],
   "source": []
  }
 ],
 "metadata": {
  "kernelspec": {
   "display_name": "Python 3 (ipykernel)",
   "language": "python",
   "name": "python3"
  },
  "language_info": {
   "codemirror_mode": {
    "name": "ipython",
    "version": 3
   },
   "file_extension": ".py",
   "mimetype": "text/x-python",
   "name": "python",
   "nbconvert_exporter": "python",
   "pygments_lexer": "ipython3",
   "version": "3.9.12"
  }
 },
 "nbformat": 4,
 "nbformat_minor": 5
}
