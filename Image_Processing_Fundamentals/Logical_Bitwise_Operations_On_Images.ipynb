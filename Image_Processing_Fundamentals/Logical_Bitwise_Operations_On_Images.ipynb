{
 "cells": [
  {
   "cell_type": "code",
   "execution_count": 1,
   "id": "b40c3ffb",
   "metadata": {},
   "outputs": [],
   "source": [
    "# importing the OpenCV module\n",
    "import cv2 as cv\n",
    "\n",
    "import sys\n",
    "import os\n",
    "\n",
    "# importing numpy to work with pixels\n",
    "import numpy as np\n",
    "\n",
    "# importing matplotlib to work with plots and display\n",
    "import matplotlib.pyplot as plt\n",
    "%matplotlib inline"
   ]
  },
  {
   "cell_type": "markdown",
   "id": "6d94bdab",
   "metadata": {},
   "source": [
    "## THEORY\n",
    "### Bitwise AND ----->\n",
    "### Bitwise OR  ----->\n",
    "### Bitwise NOT ----->\n",
    "### Bitwise XOR -----> at least one input should be 1 to get final output 1  otherwise 0.....(not more than 1 nor less than 1)"
   ]
  },
  {
   "cell_type": "code",
   "execution_count": 2,
   "id": "35a1a5b8",
   "metadata": {},
   "outputs": [],
   "source": [
    "# Creating an image with 1s and drawing white rectangle on it\n",
    "img_rectangle = np.ones((400,400), dtype = \"uint8\") \n",
    "cv.rectangle(img_rectangle, (50,50), (300,300), (255,255,255), -1)\n",
    "cv.imshow(\"Rectangle Image\", img_rectangle)\n",
    "k = cv.waitKey(0)\n",
    "# Destroy all the window open\n",
    "cv.destroyAllWindows()"
   ]
  },
  {
   "cell_type": "code",
   "execution_count": 3,
   "id": "4db0dfe3",
   "metadata": {},
   "outputs": [],
   "source": [
    "# Creating an image with 1s and drawing white circle on it\n",
    "img_circle = np.ones((400,400), dtype = \"uint8\") \n",
    "cv.circle(img_circle, (300,300), 70, (255,255,255), -1)\n",
    "cv.imshow(\"Circle Image\",img_circle)\n",
    "k = cv.waitKey(0)\n",
    "# Destroy all the window open\n",
    "cv.destroyAllWindows()"
   ]
  },
  {
   "cell_type": "code",
   "execution_count": 4,
   "id": "de224d01",
   "metadata": {},
   "outputs": [],
   "source": [
    "# Applying a bitwise AND to our rectangle and circle\n",
    "bitwiseAnd = cv.bitwise_and(img_rectangle,img_circle)\n",
    "cv.imshow(\"Bitwise AND Image\",bitwiseAnd)\n",
    "k = cv.waitKey(0)\n",
    "# Destroy all the window open\n",
    "cv.destroyAllWindows()"
   ]
  },
  {
   "cell_type": "code",
   "execution_count": 5,
   "id": "147941c6",
   "metadata": {},
   "outputs": [],
   "source": [
    "# Applying a bitwise OR to our rectangle and circle\n",
    "bitwiseOr = cv.bitwise_or(img_rectangle,img_circle)\n",
    "cv.imshow(\"Bitwise OR Image\",bitwiseOr)\n",
    "k = cv.waitKey(0)\n",
    "# Destroy all the window open\n",
    "cv.destroyAllWindows()"
   ]
  },
  {
   "cell_type": "code",
   "execution_count": 6,
   "id": "853e5f67",
   "metadata": {},
   "outputs": [],
   "source": [
    "# Applying a bitwise XOR to our rectangle and circle\n",
    "bitwiseXor = cv.bitwise_xor(img_rectangle,img_circle)\n",
    "cv.imshow(\"Bitwise XOR Image\",bitwiseXor)\n",
    "k = cv.waitKey(0)\n",
    "# Destroy all the window open\n",
    "cv.destroyAllWindows()"
   ]
  },
  {
   "cell_type": "code",
   "execution_count": 7,
   "id": "0da85e70",
   "metadata": {},
   "outputs": [],
   "source": [
    "# Applying a bitwise NOT to our rectangle \n",
    "bitwiseNot_rec = cv.bitwise_not(img_rectangle)\n",
    "cv.imshow(\"Bitwise NOT Rect. Image\",bitwiseNot_rec)\n",
    "k = cv.waitKey(0)\n",
    "# Destroy all the window open\n",
    "cv.destroyAllWindows()"
   ]
  },
  {
   "cell_type": "code",
   "execution_count": 8,
   "id": "5b40d2e6",
   "metadata": {},
   "outputs": [],
   "source": [
    "# Applying a bitwise NOT to our circle \n",
    "bitwiseNot_circ = cv.bitwise_not(img_circle)\n",
    "cv.imshow(\"Bitwise NOT Circle Image\",bitwiseNot_circ)\n",
    "k = cv.waitKey(0)\n",
    "# Destroy all the window open\n",
    "cv.destroyAllWindows()"
   ]
  },
  {
   "cell_type": "markdown",
   "id": "a4629312",
   "metadata": {},
   "source": [
    "# Using Bitwise Operators"
   ]
  },
  {
   "cell_type": "code",
   "execution_count": 9,
   "id": "d9eb8de6",
   "metadata": {},
   "outputs": [],
   "source": [
    "#from scratch\n",
    "res = np.uint8(img_rectangle & img_circle)\n",
    "cv.imshow(\"Bitwise AND Image\",res)\n",
    "k = cv.waitKey(0)\n",
    "# Destroy all the window open\n",
    "cv.destroyAllWindows()"
   ]
  },
  {
   "cell_type": "code",
   "execution_count": 10,
   "id": "c15f8783",
   "metadata": {},
   "outputs": [],
   "source": [
    "#from scratch\n",
    "res = np.uint8(img_rectangle | img_circle)\n",
    "cv.imshow(\"Bitwise OR Image\",res)\n",
    "k = cv.waitKey(0)\n",
    "# Destroy all the window open\n",
    "cv.destroyAllWindows()"
   ]
  },
  {
   "cell_type": "code",
   "execution_count": 11,
   "id": "fc97e93c",
   "metadata": {},
   "outputs": [],
   "source": [
    "#from scratch\n",
    "res = np.uint8(img_rectangle ^ img_circle)\n",
    "cv.imshow(\"Bitwise XOR Image\",res)\n",
    "k = cv.waitKey(0)\n",
    "# Destroy all the window open\n",
    "cv.destroyAllWindows()"
   ]
  },
  {
   "cell_type": "code",
   "execution_count": 12,
   "id": "fb58d5d2",
   "metadata": {},
   "outputs": [],
   "source": [
    "#from scratch\n",
    "res = np.uint8(~(img_rectangle))\n",
    "cv.imshow(\"Bitwise NOT Rectangle Image\",res)\n",
    "k = cv.waitKey(0)\n",
    "# Destroy all the window open\n",
    "cv.destroyAllWindows()"
   ]
  },
  {
   "cell_type": "code",
   "execution_count": 13,
   "id": "c707193b",
   "metadata": {},
   "outputs": [],
   "source": [
    "#from scratch\n",
    "res = np.uint8(~(img_circle))\n",
    "cv.imshow(\"Bitwise NOT Circle Image\",res)\n",
    "k = cv.waitKey(0)\n",
    "# Destroy all the window open\n",
    "cv.destroyAllWindows()"
   ]
  },
  {
   "cell_type": "markdown",
   "id": "dd5557f9",
   "metadata": {},
   "source": [
    "## Images"
   ]
  },
  {
   "cell_type": "code",
   "execution_count": 15,
   "id": "8b04fb1b",
   "metadata": {},
   "outputs": [],
   "source": [
    "# Read Image1\n",
    "img1 = cv.imread(\"input1.jpg\",1)\n",
    "#  Read Image2\n",
    "img2 = cv.imread(\"LinL.jpg\",1)\n",
    "\n",
    "# I want to put logo on top-left corner, So I create a ROI(region of interest)\n",
    "rows,cols,channels = img2.shape\n",
    "roi = img1[0:rows, 0:cols]\n",
    "\n",
    "# Now create a mask of logo and create its inverse mask also\n",
    "img2gray = cv.cvtColor(img2,cv.COLOR_BGR2GRAY)\n",
    "ret, mask = cv.threshold(img2gray, 10, 255, cv.THRESH_BINARY)\n",
    "mask_inv = cv.bitwise_not(mask)\n",
    "\n",
    "# Now black-out the area of logo in ROI\n",
    "img1_bg = cv.bitwise_and(roi,roi,mask = mask_inv)\n",
    "\n",
    "# Take only region of logo from logo image.\n",
    "img2_fg = cv.bitwise_and(img2,img2,mask = mask)\n",
    "\n",
    "# Put logo in ROI and modify the main image\n",
    "dst = cv.add(img1_bg,img2_fg)\n",
    "img1[0:rows, 0:cols ] = dst\n",
    "\n",
    "cv.imshow('res',img1)\n",
    "cv.waitKey(0)\n",
    "cv.destroyAllWindows()"
   ]
  },
  {
   "cell_type": "code",
   "execution_count": null,
   "id": "0a56151d",
   "metadata": {},
   "outputs": [],
   "source": []
  }
 ],
 "metadata": {
  "kernelspec": {
   "display_name": "Python 3 (ipykernel)",
   "language": "python",
   "name": "python3"
  },
  "language_info": {
   "codemirror_mode": {
    "name": "ipython",
    "version": 3
   },
   "file_extension": ".py",
   "mimetype": "text/x-python",
   "name": "python",
   "nbconvert_exporter": "python",
   "pygments_lexer": "ipython3",
   "version": "3.9.12"
  }
 },
 "nbformat": 4,
 "nbformat_minor": 5
}
