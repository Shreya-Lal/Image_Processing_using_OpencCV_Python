{
 "cells": [
  {
   "cell_type": "code",
   "execution_count": 1,
   "id": "834a1be3",
   "metadata": {},
   "outputs": [],
   "source": [
    "import cv2 as cv\n",
    "import matplotlib.pyplot as plt\n",
    "import numpy as np\n",
    "from math import sqrt, floor, ceil\n",
    "import math"
   ]
  },
  {
   "cell_type": "markdown",
   "id": "b6d92a75",
   "metadata": {},
   "source": [
    "# NOTE\n",
    "\n",
    "### alpha 1  beta 0      --> no change  \n",
    "### 0 < alpha < 1        --> lower contrast  \n",
    "### alpha > 1            --> higher contrast  \n",
    "### -127 < beta < +127   --> good range for brightness values"
   ]
  },
  {
   "cell_type": "markdown",
   "id": "b8c9fba7",
   "metadata": {},
   "source": [
    "# Contrast and Brightness using opencv"
   ]
  },
  {
   "cell_type": "code",
   "execution_count": 2,
   "id": "31142bd6",
   "metadata": {},
   "outputs": [],
   "source": [
    "path = (\"bird.jpg\")\n",
    "\n",
    "# Reading an image in default mode\n",
    "image = cv.imread(path)\n",
    "\n",
    "new_image = cv.convertScaleAbs(image, alpha=2.2, beta=50)\n",
    "cv.imshow('Original Image', image)\n",
    "cv.imshow('New Image', new_image)\n",
    "# Wait until user press some key\n",
    "k= cv.waitKey()"
   ]
  },
  {
   "cell_type": "markdown",
   "id": "cb46f53f",
   "metadata": {},
   "source": [
    "# Contrast and Brightness from scratch\n",
    "### Instead of these 'for' loops we could have used simply:\n",
    "#### new_image = cv.convertScaleAbs(image, alpha=alpha, beta=beta)\n"
   ]
  },
  {
   "cell_type": "code",
   "execution_count": 5,
   "id": "ddfcc856",
   "metadata": {},
   "outputs": [
    {
     "name": "stdout",
     "output_type": "stream",
     "text": [
      " Basic Linear Transforms \n",
      "-------------------------\n",
      "* Enter the alpha value [1.0-3.0]: 1.1\n",
      "* Enter the beta value [0-100]: 80\n"
     ]
    }
   ],
   "source": [
    "path = (\"bird.jpg\")\n",
    "\n",
    "# Reading an image in default mode\n",
    "image = cv.imread(path)\n",
    "\n",
    "new_image = np.zeros(image.shape, image.dtype)\n",
    "alpha = 1.0 # Simple contrast control\n",
    "beta = 0    # Simple brightness control\n",
    "# Initialize values\n",
    "print(' Basic Linear Transforms ')\n",
    "print('-------------------------')\n",
    "try:\n",
    "    alpha = float(input('* Enter the alpha value [1.0-3.0]: '))\n",
    "    beta = int(input('* Enter the beta value [0-100]: '))\n",
    "except ValueError:\n",
    "    print('Error, not a number')\n",
    "    \n",
    "# Do the operation new_image(i,j) = alpha*image(i,j) + beta\n",
    "# pixel wise accesing\n",
    "for y in range(image.shape[0]):\n",
    "    for x in range(image.shape[1]):\n",
    "        for c in range(image.shape[2]):\n",
    "            new_image[y,x,c] = np.clip(alpha*image[y,x,c] + beta, 0, 255)\n",
    "            \n",
    "cv.imshow('Original Image', image)\n",
    "cv.imshow('New Image', new_image)\n",
    "# Wait until user press some key\n",
    "k= cv.waitKey()"
   ]
  },
  {
   "cell_type": "code",
   "execution_count": null,
   "id": "ac07abbf",
   "metadata": {},
   "outputs": [],
   "source": []
  }
 ],
 "metadata": {
  "kernelspec": {
   "display_name": "Python 3 (ipykernel)",
   "language": "python",
   "name": "python3"
  },
  "language_info": {
   "codemirror_mode": {
    "name": "ipython",
    "version": 3
   },
   "file_extension": ".py",
   "mimetype": "text/x-python",
   "name": "python",
   "nbconvert_exporter": "python",
   "pygments_lexer": "ipython3",
   "version": "3.9.12"
  }
 },
 "nbformat": 4,
 "nbformat_minor": 5
}
