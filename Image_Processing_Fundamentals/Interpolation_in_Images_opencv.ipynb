{
 "cells": [
  {
   "cell_type": "code",
   "execution_count": 1,
   "id": "ea4f2717",
   "metadata": {},
   "outputs": [],
   "source": [
    "import cv2 as cv\n",
    "import sys\n",
    "import os\n",
    "import math\n",
    "import time\n",
    "\n",
    "\n",
    "import numpy as np\n",
    "import matplotlib.pyplot as plt\n",
    "%matplotlib inline"
   ]
  },
  {
   "cell_type": "markdown",
   "id": "47a8bf1c",
   "metadata": {},
   "source": [
    "# Syntax: dst = cv2.resize(src, dsize[, fx[, fy[, interpolation]]]])"
   ]
  },
  {
   "cell_type": "markdown",
   "id": "c6da7e3f",
   "metadata": {},
   "source": [
    "# 1. Nearest Neighbor Interpolation\n",
    "##  Syntax: cv.INTER_NEAREST"
   ]
  },
  {
   "cell_type": "code",
   "execution_count": 2,
   "id": "4b39fcb5",
   "metadata": {},
   "outputs": [],
   "source": [
    "img = cv.imread(\"butterfly.png\")\n",
    "# Nearest Neighbor Interpolation\n",
    "near_img = cv.resize(img,None, fx = 3, fy = 5, interpolation = cv.INTER_NEAREST)\n",
    "\n",
    "cv.imshow(\"Original Image\", img)\n",
    "key=cv.waitKey(0)\n",
    "\n",
    "cv.imshow(\"NNI Image\",near_img)\n",
    "key=cv.waitKey(0)\n",
    "\n",
    "# Destroy all the window open\n",
    "cv.destroyAllWindows()"
   ]
  },
  {
   "cell_type": "markdown",
   "id": "dd2b6486",
   "metadata": {},
   "source": [
    "# 2. Bi-Linear Interpolation\n",
    "## Syntax: cv.INTER_LINEAR"
   ]
  },
  {
   "cell_type": "code",
   "execution_count": 3,
   "id": "b9bd06c8",
   "metadata": {},
   "outputs": [],
   "source": [
    "img = cv.imread(\"butterfly.png\")\n",
    "# Bi-Linear Interpolation\n",
    "bilinear_img = cv.resize(img,None, fx = 3, fy = 5, interpolation = cv.INTER_LINEAR)\n",
    "\n",
    "cv.imshow(\"Original Image\", img)\n",
    "key=cv.waitKey(0)\n",
    "\n",
    "cv.imshow(\"BLI Image\",bilinear_img)\n",
    "key=cv.waitKey(0)\n",
    "\n",
    "# Destroy all the window open\n",
    "cv.destroyAllWindows()"
   ]
  },
  {
   "cell_type": "markdown",
   "id": "13b22f62",
   "metadata": {},
   "source": [
    "# 3. Bit exact bilinear interpolation\n",
    "## Syntax: cv.INTER_LINEAR_EXACT"
   ]
  },
  {
   "cell_type": "code",
   "execution_count": 4,
   "id": "a00a97dd",
   "metadata": {},
   "outputs": [],
   "source": [
    "img = cv.imread(\"butterfly.png\")\n",
    "# Bi-Linear Interpolation\n",
    "bilinear_img = cv.resize(img,None, fx = 3, fy = 5, interpolation = cv.INTER_LINEAR)\n",
    "\n",
    "cv.imshow(\"Original Image\", img)\n",
    "key=cv.waitKey(0)\n",
    "\n",
    "cv.imshow(\"Bit Exact BLI Image\",bilinear_img)\n",
    "key=cv.waitKey(0)\n",
    "\n",
    "# Destroy all the window open\n",
    "cv.destroyAllWindows()"
   ]
  },
  {
   "cell_type": "markdown",
   "id": "41b50a4e",
   "metadata": {},
   "source": [
    "# 4. Inter AREA Interpolation\n",
    "## Syntax: cv.INTER_AREA \n",
    "### resampling using pixel area relation. It may be a preferred method for image decimation, as it gives moire'-free results. But when the image is zoomed, it is similar to the INTER_NEAREST method."
   ]
  },
  {
   "cell_type": "code",
   "execution_count": 5,
   "id": "70d6c322",
   "metadata": {},
   "outputs": [],
   "source": [
    "img = cv.imread(\"butterfly.png\")\n",
    "# Inter Area Interpolation\n",
    "InterArea_img = cv.resize(img,None, fx = 3, fy = 5, interpolation = cv.INTER_AREA)\n",
    "\n",
    "cv.imshow(\"Original Image\", img)\n",
    "key=cv.waitKey(0)\n",
    "\n",
    "cv.imshow(\"Inter Area Image\",InterArea_img)\n",
    "key=cv.waitKey(0)\n",
    "\n",
    "# Destroy all the window open\n",
    "cv.destroyAllWindows()"
   ]
  },
  {
   "cell_type": "markdown",
   "id": "800aa63d",
   "metadata": {},
   "source": [
    "# 5. Lanczos Interpolation\n",
    "## Syntax: cv.INTER_LANCZOS4\n",
    "### Lanczos interpolation over 8x8 neighborhood"
   ]
  },
  {
   "cell_type": "code",
   "execution_count": 7,
   "id": "bd9b3068",
   "metadata": {},
   "outputs": [],
   "source": [
    "img = cv.imread(\"butterfly.png\")\n",
    "# Bi-Linear Interpolation\n",
    "lan_img = cv.resize(img,None, fx = 3, fy = 5, interpolation = cv.INTER_LANCZOS4)\n",
    "\n",
    "cv.imshow(\"Original Image\", img)\n",
    "key=cv.waitKey(0)\n",
    "\n",
    "cv.imshow(\"Lanczos Int. Image\",lan_img)\n",
    "key=cv.waitKey(0)\n",
    "\n",
    "# Destroy all the window open\n",
    "cv.destroyAllWindows()"
   ]
  },
  {
   "cell_type": "markdown",
   "id": "b1917643",
   "metadata": {},
   "source": [
    "# 6. Bi-Cubic Interpolation\n",
    "## Syntax: cv.INTER_CUBIC\n"
   ]
  },
  {
   "cell_type": "code",
   "execution_count": 2,
   "id": "7164a73e",
   "metadata": {},
   "outputs": [],
   "source": [
    "img = cv.imread(\"butterfly.png\")\n",
    "# Bi-Cubic Interpolation\n",
    "bicubic_img = cv.resize(img,None, fx = .25, fy = .25, interpolation = cv.INTER_CUBIC)\n",
    "\n",
    "cv.imshow(\"Original Image\", img)\n",
    "key=cv.waitKey(0)\n",
    "\n",
    "cv.imshow(\"Bicubic Image\",bicubic_img)\n",
    "key=cv.waitKey(0)\n",
    "\n",
    "# Destroy all the window open\n",
    "cv.destroyAllWindows()"
   ]
  },
  {
   "cell_type": "markdown",
   "id": "aba12261",
   "metadata": {},
   "source": [
    "# 7. Bit exact nearest neighbor interpolation. \n",
    "## Syntax:cv.INTER_NEAREST_EXACT\n",
    "### This will produce same results as the nearest neighbor method in PIL, scikit-image or Matlab."
   ]
  },
  {
   "cell_type": "code",
   "execution_count": 8,
   "id": "7b9d518c",
   "metadata": {},
   "outputs": [],
   "source": [
    "img = cv.imread(\"butterfly.png\")\n",
    "# Bit Exact NN Interpolation\n",
    "bitexact_img = cv.resize(img,None, fx = 3, fy = 5, interpolation = cv.INTER_NEAREST_EXACT)\n",
    "\n",
    "cv.imshow(\"Original Image\", img)\n",
    "key=cv.waitKey(0)\n",
    "\n",
    "cv.imshow(\"Bit Exact NNI Image\",bitexact_img)\n",
    "key=cv.waitKey(0)\n",
    "\n",
    "# Destroy all the window open\n",
    "cv.destroyAllWindows()"
   ]
  },
  {
   "cell_type": "code",
   "execution_count": null,
   "id": "8b9301ee",
   "metadata": {},
   "outputs": [],
   "source": []
  },
  {
   "cell_type": "code",
   "execution_count": null,
   "id": "f1b2b229",
   "metadata": {},
   "outputs": [],
   "source": []
  },
  {
   "cell_type": "code",
   "execution_count": null,
   "id": "6ea710f4",
   "metadata": {},
   "outputs": [],
   "source": []
  }
 ],
 "metadata": {
  "kernelspec": {
   "display_name": "Python 3 (ipykernel)",
   "language": "python",
   "name": "python3"
  },
  "language_info": {
   "codemirror_mode": {
    "name": "ipython",
    "version": 3
   },
   "file_extension": ".py",
   "mimetype": "text/x-python",
   "name": "python",
   "nbconvert_exporter": "python",
   "pygments_lexer": "ipython3",
   "version": "3.9.12"
  }
 },
 "nbformat": 4,
 "nbformat_minor": 5
}
