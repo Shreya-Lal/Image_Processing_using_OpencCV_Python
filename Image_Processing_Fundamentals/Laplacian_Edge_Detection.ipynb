{
 "cells": [
  {
   "cell_type": "code",
   "execution_count": 4,
   "id": "e0bbebc4",
   "metadata": {},
   "outputs": [],
   "source": [
    "import cv2\n",
    "import matplotlib.pyplot as plt\n",
    "import math\n",
    "import numpy as np"
   ]
  },
  {
   "cell_type": "code",
   "execution_count": 5,
   "id": "fb28979e",
   "metadata": {},
   "outputs": [],
   "source": [
    "source = cv2.imread('tiger.jpg', cv2.IMREAD_COLOR)\n",
    "image = cv2.GaussianBlur(source, (3, 3), 0)"
   ]
  },
  {
   "cell_type": "code",
   "execution_count": 6,
   "id": "45f7e6a5",
   "metadata": {},
   "outputs": [],
   "source": [
    "source_gray = cv2.cvtColor(image, cv2.COLOR_BGR2GRAY)"
   ]
  },
  {
   "cell_type": "code",
   "execution_count": 7,
   "id": "8285ca9f",
   "metadata": {},
   "outputs": [],
   "source": [
    "def l_o_g(x, y, sigma):\n",
    "    # Formatted this way for readability\n",
    "    nom = ( (y**2)+(x**2)-2*(sigma**2) )\n",
    "    denom = ( (2*math.pi*(sigma**6) ))\n",
    "    expo = math.exp( -((x**2)+(y**2))/(2*(sigma**2)) )\n",
    "    return nom*expo/denom"
   ]
  },
  {
   "cell_type": "markdown",
   "id": "d88e75b1",
   "metadata": {},
   "source": [
    "# Creating the filter image:"
   ]
  },
  {
   "cell_type": "code",
   "execution_count": 8,
   "id": "a5051f58",
   "metadata": {},
   "outputs": [],
   "source": [
    "def create_log(sigma, size = 7):\n",
    "    w = math.ceil(float(size)*float(sigma))\n",
    "\n",
    "    if(w%2 == 0):\n",
    "        w = w + 1\n",
    "\n",
    "    l_o_g_mask = []\n",
    "\n",
    "    w_range = int(math.floor(w/2))\n",
    "    print(\"Going from \" + str(-w_range) + \" to \" + str(w_range))\n",
    "    for i in range_inc(-w_range, w_range):\n",
    "        for j in range_inc(-w_range, w_range):\n",
    "            l_o_g_mask.append(l_o_g(i,j,sigma))\n",
    "    l_o_g_mask = np.array(l_o_g_mask)\n",
    "    l_o_g_mask = l_o_g_mask.reshape(w,w)\n",
    "    return l_o_g_mask"
   ]
  },
  {
   "cell_type": "markdown",
   "id": "ba087b48",
   "metadata": {},
   "source": [
    "# Convolving the filter over the original image"
   ]
  },
  {
   "cell_type": "code",
   "execution_count": 9,
   "id": "213517bf",
   "metadata": {},
   "outputs": [],
   "source": [
    "def convolve(image, mask):\n",
    "    width = image.shape[1]\n",
    "    height = image.shape[0]\n",
    "    w_range = int(math.floor(mask.shape[0]/2))\n",
    "\n",
    "    res_image = np.zeros((height, width))\n",
    "\n",
    "    # Iterate over every pixel that can be covered by the mask\n",
    "    for i in range(w_range,width-w_range):\n",
    "        for j in range(w_range,height-w_range):\n",
    "            # Then convolute with the mask \n",
    "            for k in range_inc(-w_range,w_range):\n",
    "                for h in range_inc(-w_range,w_range):\n",
    "                    res_image[j, i] += mask[w_range+h,w_range+k]*image[j+h,i+k]\n",
    "    return res_image"
   ]
  },
  {
   "cell_type": "markdown",
   "id": "b9a7b5ca",
   "metadata": {},
   "source": [
    "# Checking the zeros to mark the edges"
   ]
  },
  {
   "cell_type": "code",
   "execution_count": 10,
   "id": "830f9e29",
   "metadata": {},
   "outputs": [],
   "source": [
    "def z_c_test(l_o_g_image):\n",
    "    z_c_image = np.zeros(l_o_g_image.shape)\n",
    "\n",
    "    # Check the sign (negative or positive) of all the pixels around each pixel\n",
    "    for i in range(1,l_o_g_image.shape[0]-1):\n",
    "        for j in range(1,l_o_g_image.shape[1]-1):\n",
    "            neg_count = 0\n",
    "            pos_count = 0\n",
    "            for a in range_inc(-1, 1):\n",
    "                for b in range_inc(-1,1):\n",
    "                    if(a != 0 and b != 0):\n",
    "                        if(l_o_g_image[i+a,j+b] < 0):\n",
    "                            neg_count += 1\n",
    "                        elif(l_o_g_image[i+a,j+b] > 0):\n",
    "                            pos_count += 1\n",
    "\n",
    "            # If all the signs around the pixel are the same and they're not all zero, then it's not a zero crossing and not an edge. \n",
    "            # Otherwise, copy it to the edge map.\n",
    "            z_c = ( (neg_count > 0) and (pos_count > 0) )\n",
    "            if(z_c):\n",
    "                z_c_image[i,j] = 1\n",
    "\n",
    "    return z_c_image"
   ]
  },
  {
   "cell_type": "code",
   "execution_count": 13,
   "id": "d9790f07",
   "metadata": {},
   "outputs": [],
   "source": [
    "def run_l_o_g(bin_image, sigma_val, size_val):\n",
    "    # Create the l_o_g mask\n",
    "    print(\"creating mask\")\n",
    "    l_o_g_mask = create_log(sigma_val, size_val)\n",
    "\n",
    "    # Smooth the image by convolving with the LoG mask\n",
    "    print(\"smoothing\")\n",
    "    l_o_g_image = convolve(bin_image, l_o_g_mask)\n",
    "\n",
    "    # Display the smoothed imgage\n",
    "    #blurred = fig.add_subplot(1,4,2)\n",
    "    cv2.imshow(\"Blurred Image\".l_o_g_image)\n",
    "    k=cv2.waitKey(0)\n",
    "    \n",
    "    # Find the zero crossings\n",
    "    print(\"finding zero crossings\")\n",
    "    z_c_image = z_c_test(l_o_g_image)\n",
    "    print(z_c_image)\n",
    "\n",
    "    #Display the zero crossings\n",
    "    #edges = fig.add_subplot(1,4,3)\n",
    "    cv2.imshow(\"Image\", z_c_image)\n",
    "    k=cv2.waitKey(0)\n",
    "    #plt.show()"
   ]
  },
  {
   "cell_type": "code",
   "execution_count": null,
   "id": "267f6a21",
   "metadata": {},
   "outputs": [],
   "source": []
  }
 ],
 "metadata": {
  "kernelspec": {
   "display_name": "Python 3 (ipykernel)",
   "language": "python",
   "name": "python3"
  },
  "language_info": {
   "codemirror_mode": {
    "name": "ipython",
    "version": 3
   },
   "file_extension": ".py",
   "mimetype": "text/x-python",
   "name": "python",
   "nbconvert_exporter": "python",
   "pygments_lexer": "ipython3",
   "version": "3.9.12"
  }
 },
 "nbformat": 4,
 "nbformat_minor": 5
}
